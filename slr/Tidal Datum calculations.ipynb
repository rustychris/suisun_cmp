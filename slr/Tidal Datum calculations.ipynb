{
 "cells": [
  {
   "cell_type": "code",
   "execution_count": 80,
   "metadata": {},
   "outputs": [],
   "source": [
    "from stompy.io.local import noaa_coops\n",
    "import os\n",
    "import six\n",
    "import numpy as np\n",
    "import matplotlib.pyplot as plt\n",
    "%matplotlib inline"
   ]
  },
  {
   "cell_type": "code",
   "execution_count": 88,
   "metadata": {},
   "outputs": [],
   "source": [
    "cache_dir='cache'\n",
    "if not os.path.exists(cache_dir):\n",
    "    os.makedirs(cache_dir)"
   ]
  },
  {
   "cell_type": "code",
   "execution_count": 81,
   "metadata": {},
   "outputs": [],
   "source": [
    "# there is some bad data (datum offset) around 2015-02-28 to 2015-05-02\n",
    "# \n",
    "pc=noaa_coops.coops_dataset(station=9415144,\n",
    "                            products=['water_level'],days_per_request='M',\n",
    "                            start_date=np.datetime64(\"2015-06-01\"),\n",
    "                            end_date=np.datetime64(\"2020-06-01\"),\n",
    "                            cache_dir=cache_dir)"
   ]
  },
  {
   "cell_type": "code",
   "execution_count": 82,
   "metadata": {},
   "outputs": [
    {
     "data": {
      "text/plain": [
       "[<matplotlib.lines.Line2D at 0x7f01212a1cf8>]"
      ]
     },
     "execution_count": 82,
     "metadata": {},
     "output_type": "execute_result"
    },
    {
     "data": {
      "image/png": "[encoded data removed]",
      "text/plain": [
       "<Figure size 432x288 with 1 Axes>"
      ]
     },
     "metadata": {
      "needs_background": "light"
     },
     "output_type": "display_data"
    }
   ],
   "source": [
    "plt.figure()\n",
    "plt.plot( pc.time, pc.water_level.values[0,:])"
   ]
  },
  {
   "cell_type": "code",
   "execution_count": 83,
   "metadata": {},
   "outputs": [
    {
     "data": {
      "text/html": [
       "<div>\n",
       "<style scoped>\n",
       "    .dataframe tbody tr th:only-of-type {\n",
       "        vertical-align: middle;\n",
       "    }\n",
       "\n",
       "    .dataframe tbody tr th {\n",
       "        vertical-align: top;\n",
       "    }\n",
       "\n",
       "    .dataframe thead th {\n",
       "        text-align: right;\n",
       "    }\n",
       "</style>\n",
       "<table border=\"1\" class=\"dataframe\">\n",
       "  <thead>\n",
       "    <tr style=\"text-align: right;\">\n",
       "      <th></th>\n",
       "      <th>time</th>\n",
       "      <th>lon</th>\n",
       "      <th>lat</th>\n",
       "      <th>name</th>\n",
       "      <th>station</th>\n",
       "      <th>water_level</th>\n",
       "    </tr>\n",
       "  </thead>\n",
       "  <tbody>\n",
       "    <tr>\n",
       "      <th>0</th>\n",
       "      <td>2015-06-01 00:00:00</td>\n",
       "      <td>-122.0395</td>\n",
       "      <td>38.056</td>\n",
       "      <td>Port Chicago</td>\n",
       "      <td>9415144</td>\n",
       "      <td>1.117</td>\n",
       "    </tr>\n",
       "    <tr>\n",
       "      <th>1</th>\n",
       "      <td>2015-06-01 00:06:00</td>\n",
       "      <td>-122.0395</td>\n",
       "      <td>38.056</td>\n",
       "      <td>Port Chicago</td>\n",
       "      <td>9415144</td>\n",
       "      <td>1.092</td>\n",
       "    </tr>\n",
       "    <tr>\n",
       "      <th>2</th>\n",
       "      <td>2015-06-01 00:12:00</td>\n",
       "      <td>-122.0395</td>\n",
       "      <td>38.056</td>\n",
       "      <td>Port Chicago</td>\n",
       "      <td>9415144</td>\n",
       "      <td>1.068</td>\n",
       "    </tr>\n",
       "    <tr>\n",
       "      <th>3</th>\n",
       "      <td>2015-06-01 00:18:00</td>\n",
       "      <td>-122.0395</td>\n",
       "      <td>38.056</td>\n",
       "      <td>Port Chicago</td>\n",
       "      <td>9415144</td>\n",
       "      <td>1.043</td>\n",
       "    </tr>\n",
       "    <tr>\n",
       "      <th>4</th>\n",
       "      <td>2015-06-01 00:24:00</td>\n",
       "      <td>-122.0395</td>\n",
       "      <td>38.056</td>\n",
       "      <td>Port Chicago</td>\n",
       "      <td>9415144</td>\n",
       "      <td>1.023</td>\n",
       "    </tr>\n",
       "  </tbody>\n",
       "</table>\n",
       "</div>"
      ],
      "text/plain": [
       "                 time       lon     lat          name  station  water_level\n",
       "0 2015-06-01 00:00:00 -122.0395  38.056  Port Chicago  9415144        1.117\n",
       "1 2015-06-01 00:06:00 -122.0395  38.056  Port Chicago  9415144        1.092\n",
       "2 2015-06-01 00:12:00 -122.0395  38.056  Port Chicago  9415144        1.068\n",
       "3 2015-06-01 00:18:00 -122.0395  38.056  Port Chicago  9415144        1.043\n",
       "4 2015-06-01 00:24:00 -122.0395  38.056  Port Chicago  9415144        1.023"
      ]
     },
     "execution_count": 83,
     "metadata": {},
     "output_type": "execute_result"
    }
   ],
   "source": [
    "df=pc.isel(station=0).to_dataframe().reset_index()\n",
    "df.head()"
   ]
  },
  {
   "cell_type": "code",
   "execution_count": 84,
   "metadata": {},
   "outputs": [],
   "source": [
    "t0=df.time.values[0]\n",
    "lunar_days=(df.time.values-t0)/np.timedelta64(int(24.84*3600),'s')\n",
    "daily=df.groupby( np.floor(lunar_days)).water_level # Tidal or Lunar day\n",
    "# daily=df.groupby( df.time.dt.date).water_level\n",
    "daily_ll=daily.min()\n",
    "daily_hh=daily.max()"
   ]
  },
  {
   "cell_type": "code",
   "execution_count": 85,
   "metadata": {},
   "outputs": [
    {
     "name": "stdout",
     "output_type": "stream",
     "text": [
      "Mean of daily low: 0.445m\n",
      "Mean of daily high: 1.883m\n"
     ]
    }
   ],
   "source": [
    "# compare these MLLW, MHWW\n",
    "print(\"Mean of daily low: %.3fm\"%daily_ll.mean())\n",
    "# Compare to offical datum of 0.335m\n",
    "print(\"Mean of daily high: %.3fm\"%daily_hh.mean())\n",
    "# Compare to official datum of 1.833m"
   ]
  },
  {
   "cell_type": "code",
   "execution_count": 86,
   "metadata": {},
   "outputs": [
    {
     "data": {
      "image/png": "[encoded data removed]",
      "text/plain": [
       "<Figure size 432x288 with 2 Axes>"
      ]
     },
     "metadata": {
      "needs_background": "light"
     },
     "output_type": "display_data"
    }
   ],
   "source": [
    "fig,axs=plt.subplots(2,1)\n",
    "for ax, data in zip( axs, [daily_ll,daily_hh] ):\n",
    "    ax.hist( data,bins=40 )\n",
    "\n",
    "    extrema = np.percentile(data.values, [10,90])\n",
    "    ax.axvline( extrema[0],color='k')\n",
    "    ax.axvline( extrema[1],color='k')\n",
    "    \n"
   ]
  },
  {
   "cell_type": "code",
   "execution_count": 87,
   "metadata": {},
   "outputs": [
    {
     "name": "stdout",
     "output_type": "stream",
     "text": [
      "Mean of monthly low:  0.257m\n",
      "Mean of monthly high: 2.129m\n"
     ]
    }
   ],
   "source": [
    "# Lunar month\n",
    "t0=df.time.values[0]\n",
    "# 29.530 is the length of the synodic lunar month, i.e. the time\n",
    "# between new moons, and the relevant time for tidal cycles.\n",
    "lunar_months=(df.time.values-t0)/np.timedelta64(int(29.530*86400),'s')\n",
    "monthly=df.groupby( np.floor(lunar_months)).water_level # Tidal or Lunar day\n",
    "monthly_ll=monthly.min()\n",
    "monthly_hh=monthly.max()\n",
    "\n",
    "print(\"Mean of monthly low:  %.3fm\"%monthly_ll.mean())\n",
    "print(\"Mean of monthly high: %.3fm\"%monthly_hh.mean())"
   ]
  }
 ],
 "metadata": {
  "kernelspec": {
   "display_name": "Python 3",
   "language": "python",
   "name": "python3"
  },
  "language_info": {
   "codemirror_mode": {
    "name": "ipython",
    "version": 3
   },
   "file_extension": ".py",
   "mimetype": "text/x-python",
   "name": "python",
   "nbconvert_exporter": "python",
   "pygments_lexer": "ipython3",
   "version": "3.7.3"
  }
 },
 "nbformat": 4,
 "nbformat_minor": 2
}
