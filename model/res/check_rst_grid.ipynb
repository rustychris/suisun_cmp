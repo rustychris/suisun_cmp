{
 "cells": [
  {
   "cell_type": "code",
   "execution_count": null,
   "metadata": {},
   "outputs": [],
   "source": [
    "# Seems that the restart files do not quite line up with how\n",
    "# I'm setting the tracer releases.\n",
    "import os\n",
    "from stompy.grid import unstructured_grid\n",
    "import matplotlib.pyplot as plt\n",
    "import xarray as xr\n",
    "import local_config\n",
    "%matplotlib notebook"
   ]
  },
  {
   "cell_type": "code",
   "execution_count": null,
   "metadata": {},
   "outputs": [],
   "source": [
    "base=os.path.join(local_config.run_root_dir,\"2018_Suisun_R05_res00\")        "
   ]
  },
  {
   "cell_type": "code",
   "execution_count": null,
   "metadata": {},
   "outputs": [],
   "source": [
    "# Load a partitioned grid\n",
    "num_procs=16\n",
    "g_ins=[]\n",
    "for proc in range(num_procs):\n",
    "    g_in_fn=os.path.join(base,\n",
    "                         f\"2017_suisun_marsh_72_VegCorr_D_{proc:04d}_net.nc\")\n",
    "    g_in=unstructured_grid.UnstructuredGrid.read_dfm(g_in_fn)\n",
    "    g_ins.append(g_in)"
   ]
  },
  {
   "cell_type": "code",
   "execution_count": null,
   "metadata": {},
   "outputs": [],
   "source": [
    "plt.figure()\n",
    "for g_in in g_ins:\n",
    "    g_in.plot_edges()"
   ]
  },
  {
   "cell_type": "code",
   "execution_count": null,
   "metadata": {},
   "outputs": [],
   "source": [
    "# Now load a restart file\n",
    "rst_in_fn=os.path.join(base,\n",
    "                      \"DFM_OUTPUT_FlowFM\",\n",
    "                      f\"FlowFM_{proc:04d}_20180415_000000_rst.nc\")\n",
    "rst_in=xr.open_dataset(rst_in_fn)"
   ]
  },
  {
   "cell_type": "code",
   "execution_count": null,
   "metadata": {},
   "outputs": [],
   "source": [
    "rst_outs=[]\n",
    "for proc in range(num_procs):\n",
    "    rst_out_fn=os.path.join(base,\n",
    "                          \"DFM_OUTPUT_FlowFM_R001\",\n",
    "                          f\"FlowFM_{proc:04d}_20180410_000000_rst.nc\")\n",
    "    rst_out=xr.open_dataset(rst_out_fn)\n",
    "    rst_outs.append(rst_out)"
   ]
  },
  {
   "cell_type": "code",
   "execution_count": null,
   "metadata": {},
   "outputs": [],
   "source": [
    "# still, the grid should be okay.\n",
    "plt.figure()\n",
    "\n",
    "# Everybody looks correct.\n",
    "for g_in,rst_out in zip(g_ins,rst_outs):\n",
    "    g_in.plot_cells(values=rst_out['pt'].isel(time=0),\n",
    "                   clim=[0,1])\n",
    "plt.axis('equal')"
   ]
  },
  {
   "cell_type": "code",
   "execution_count": null,
   "metadata": {},
   "outputs": [],
   "source": [
    "# Map output from previous run\n",
    "# might match, but definitely requires that the reordering\n",
    "# deterministic.\n",
    "map_ins=[]\n",
    "for proc in range(num_procs):\n",
    "    map_in_fn=os.path.join(base,\n",
    "                          \"DFM_OUTPUT_FlowFM\",\n",
    "                          f\"FlowFM_{proc:04d}_map.nc\")\n",
    "    map_ins.append( xr.open_dataset(map_in_fn) )\n"
   ]
  },
  {
   "cell_type": "code",
   "execution_count": null,
   "metadata": {},
   "outputs": [],
   "source": [
    "# And compare with map out\n",
    "map_outs=[]\n",
    "for proc in range(num_procs):\n",
    "    map_out_fn=os.path.join(base,\n",
    "                          \"DFM_OUTPUT_FlowFM_R001\",\n",
    "                          f\"FlowFM_R001_{proc:04d}_map.nc\")\n",
    "    map_out=xr.open_dataset(map_out_fn)\n",
    "    map_outs.append(map_out)"
   ]
  },
  {
   "cell_type": "code",
   "execution_count": null,
   "metadata": {},
   "outputs": [],
   "source": [
    "map_gs=[ unstructured_grid.UnstructuredGrid.from_ugrid(ds)\n",
    "        for ds in map_outs]\n"
   ]
  },
  {
   "cell_type": "code",
   "execution_count": null,
   "metadata": {},
   "outputs": [],
   "source": [
    "for rst_out,g_in,map_g in zip(rst_outs,g_ins,map_gs):\n",
    "    #print(\"Cells in restart rst_in:   \",rst_in.dims['nFlowElem'])\n",
    "    print(\"Cells in partitioned grid: \",g_in.Ncells())\n",
    "    print(\"Cells in restart rst_out:  \",rst_out.dims['nFlowElem'])\n",
    "    print(\"Cell in map output grid:   \",map_g.Ncells())\n",
    "    print()"
   ]
  },
  {
   "cell_type": "code",
   "execution_count": null,
   "metadata": {},
   "outputs": [],
   "source": [
    "plt.figure()\n",
    "for map_g in map_gs:\n",
    "    map_g.plot_edges()\n",
    "    "
   ]
  },
  {
   "cell_type": "code",
   "execution_count": null,
   "metadata": {},
   "outputs": [],
   "source": [
    "# This shows that g_in and the grid in the map output are \n",
    "# different, and while they have the same number of cells\n",
    "# the order is somehow different.  Thus \n",
    "fig,axs=plt.subplots(1,3,figsize=(9.5,8))\n",
    "\n",
    "for g_in,map_g,rst_out,map_out in zip(g_ins,map_gs,rst_outs,map_outs):\n",
    "    g_in.plot_cells(values=rst_out['pt'].isel(time=0),\n",
    "                   clim=[0,1],ax=axs[0])\n",
    "    map_g.plot_cells(values=rst_out['pt'].isel(time=0),\n",
    "                   clim=[0,1],ax=axs[1])\n",
    "    map_g.plot_cells(values=map_out['mesh2d_pt'].isel(time=0),\n",
    "                     clim=[0,1],ax=axs[2])\n",
    "    \n",
    "axs[0].axis('equal')\n",
    "axs[1].axis('equal')\n",
    "axs[2].axis('equal')"
   ]
  },
  {
   "cell_type": "code",
   "execution_count": null,
   "metadata": {},
   "outputs": [],
   "source": [
    "rst_outs[0].FlowElem_xzw"
   ]
  },
  {
   "cell_type": "code",
   "execution_count": null,
   "metadata": {},
   "outputs": [],
   "source": [
    "map_outs[0].mesh2d_face_x"
   ]
  },
  {
   "cell_type": "code",
   "execution_count": null,
   "metadata": {},
   "outputs": [],
   "source": [
    "plt.figure()\n",
    "plt.plot( rst_outs[0].FlowElem_xzw,\n",
    "          map_outs[0].mesh2d_face_x,\n",
    "         'g.')\n",
    "plt.plot( rst_outs[0].FlowElem_xzw,\n",
    "          g_ins[0].cells_centroid()[:,0],\n",
    "         'r.')\n",
    "plt.plot( rst_outs[0].FlowElem_xzw,\n",
    "          map_ins[0].mesh2d_face_x,\n",
    "         'b.')"
   ]
  },
  {
   "cell_type": "code",
   "execution_count": null,
   "metadata": {},
   "outputs": [],
   "source": [
    "# So there is some sort of renumbering that occurs between reading in a partitioned grid\n",
    "# and the internal workings of DFM.\n",
    "# currently I load a subdomain_grid to figure out how to write\n",
    "# the IC."
   ]
  },
  {
   "cell_type": "code",
   "execution_count": null,
   "metadata": {},
   "outputs": [],
   "source": [
    "rst_outs[0]"
   ]
  },
  {
   "cell_type": "code",
   "execution_count": null,
   "metadata": {},
   "outputs": [],
   "source": [
    "g_"
   ]
  }
 ],
 "metadata": {
  "kernelspec": {
   "display_name": "Python 3",
   "language": "python",
   "name": "python3"
  },
  "language_info": {
   "codemirror_mode": {
    "name": "ipython",
    "version": 3
   },
   "file_extension": ".py",
   "mimetype": "text/x-python",
   "name": "python",
   "nbconvert_exporter": "python",
   "pygments_lexer": "ipython3",
   "version": "3.7.1"
  }
 },
 "nbformat": 4,
 "nbformat_minor": 2
}
